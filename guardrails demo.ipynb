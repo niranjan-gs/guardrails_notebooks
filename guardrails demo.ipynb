{
 "cells": [
  {
   "cell_type": "code",
   "execution_count": 2,
   "id": "011ea791-b7a8-4be6-8715-330b9e582563",
   "metadata": {},
   "outputs": [],
   "source": [
    "import guardrails as gd"
   ]
  },
  {
   "cell_type": "code",
   "execution_count": 29,
   "id": "5f2084cd-15a2-4fc8-bfcf-16941e59e992",
   "metadata": {},
   "outputs": [],
   "source": [
    "import requests\n",
    "import json\n",
    "\n",
    "def make_llm_api_call(prompt):\n",
    "    url = \"http://localhost:11434/api/generate\"\n",
    "    data = {\n",
    "        \"model\":\"llama2\",\n",
    "        \"prompt\":f\"{prompt}\",\n",
    "        \"stream\": False\n",
    "            }\n",
    "    headers = {\"Content-Type\": \"application/json\"}\n",
    "    \n",
    "    response = requests.post(url, json=data, headers=headers)\n",
    "    print(type(response.json()['response']))\n",
    "    return response.json()['response']"
   ]
  },
  {
   "cell_type": "code",
   "execution_count": 19,
   "id": "d4f43eb5-d6fc-4e85-b1b0-409b24be08d9",
   "metadata": {},
   "outputs": [],
   "source": [
    "def my_llm_api(prompt: str, **kwargs):\n",
    "    return make_llm_api_call(\"Hi\")\n",
    "    "
   ]
  },
  {
   "cell_type": "code",
   "execution_count": 3,
   "id": "39097953-efc2-452f-bbe8-77c348ec6009",
   "metadata": {},
   "outputs": [],
   "source": [
    "rail_spec = \"\"\"\n",
    "<rail version=\"0.1\">\n",
    "<prompt\n",
    "    validators=\"two-words\"\n",
    "    on-fail-two-words=\"exception\"\n",
    ">\n",
    "This is not two words\n",
    "</prompt>\n",
    "<output type=\"string\">\n",
    "</output>\n",
    "</rail>\n",
    "\"\"\"\n",
    "\n",
    "from guardrails import Guard\n",
    "guard = Guard.from_rail_string(rail_spec)"
   ]
  },
  {
   "cell_type": "code",
   "execution_count": 28,
   "id": "c6a0d065-4393-4a95-882c-53245de3f336",
   "metadata": {},
   "outputs": [
    {
     "name": "stdout",
     "output_type": "stream",
     "text": [
      "<class 'str'>\n"
     ]
    },
    {
     "data": {
      "text/plain": [
       "\"Hello! It's nice to meet you. Is there something I can help you with or would you like to chat?\""
      ]
     },
     "execution_count": 28,
     "metadata": {},
     "output_type": "execute_result"
    }
   ],
   "source": [
    "make_llm_api_call(\"Hi\")"
   ]
  },
  {
   "cell_type": "code",
   "execution_count": 30,
   "id": "284fbd6c-2938-48f0-8343-6e689807386d",
   "metadata": {},
   "outputs": [
    {
     "name": "stdout",
     "output_type": "stream",
     "text": [
      "<class 'str'>\n"
     ]
    }
   ],
   "source": [
    "raw_llm_output, guardrail_output,  *rest = guard(\n",
    "        my_llm_api,\n",
    "        prompt = \"Hi How\",\n",
    ")"
   ]
  },
  {
   "cell_type": "code",
   "execution_count": 31,
   "id": "31803574-eaf7-4554-b659-ce7331dff620",
   "metadata": {},
   "outputs": [
    {
     "data": {
      "text/plain": [
       "\"Hello! It's nice to meet you. Is there something I can help you with or would you like to chat?\""
      ]
     },
     "execution_count": 31,
     "metadata": {},
     "output_type": "execute_result"
    }
   ],
   "source": [
    "raw_llm_output"
   ]
  },
  {
   "cell_type": "code",
   "execution_count": 32,
   "id": "635c703a-12d7-4223-b578-ab17a1b91b8d",
   "metadata": {},
   "outputs": [
    {
     "data": {
      "text/plain": [
       "\"Hello! It's nice to meet you. Is there something I can help you with or would you like to chat?\""
      ]
     },
     "execution_count": 32,
     "metadata": {},
     "output_type": "execute_result"
    }
   ],
   "source": [
    "guardrail_output"
   ]
  },
  {
   "cell_type": "code",
   "execution_count": 33,
   "id": "68cb72b3-31a5-4f7d-92ab-0f295939ca3c",
   "metadata": {},
   "outputs": [
    {
     "name": "stdout",
     "output_type": "stream",
     "text": [
      "\n",
      "This is not two words\n",
      "\n"
     ]
    }
   ],
   "source": [
    "print(guard.base_prompt)"
   ]
  },
  {
   "cell_type": "code",
   "execution_count": null,
   "id": "07f695c8-f604-48ca-9c17-3e17822346e4",
   "metadata": {},
   "outputs": [],
   "source": []
  }
 ],
 "metadata": {
  "kernelspec": {
   "display_name": "Python (guardrail_env)",
   "language": "python",
   "name": "guardrail_env"
  },
  "language_info": {
   "codemirror_mode": {
    "name": "ipython",
    "version": 3
   },
   "file_extension": ".py",
   "mimetype": "text/x-python",
   "name": "python",
   "nbconvert_exporter": "python",
   "pygments_lexer": "ipython3",
   "version": "3.8.18"
  }
 },
 "nbformat": 4,
 "nbformat_minor": 5
}
